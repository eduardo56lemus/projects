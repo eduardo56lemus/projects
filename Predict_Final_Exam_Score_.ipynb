{
  "nbformat": 4,
  "nbformat_minor": 0,
  "metadata": {
    "colab": {
      "provenance": []
    },
    "kernelspec": {
      "name": "python3",
      "display_name": "Python 3"
    },
    "language_info": {
      "name": "python"
    }
  },
  "cells": [
    {
      "cell_type": "code",
      "execution_count": null,
      "metadata": {
        "id": "j4b6o5PUP8W-"
      },
      "outputs": [],
      "source": [
        "def final_exam_score_det():\n",
        "\n",
        "# obtain the users info\n",
        "\n",
        "    current_grade = float(input(\"Enter your currect grade: \"))\n",
        "\n",
        "    desired_grade = float(input(\"Enter your desired grade: \"))\n",
        "\n",
        "    final_exam_weight = float(input(\"Enter the weight of the final exam:\" ))/100\n",
        "\n",
        "# Calculations\n",
        "\n",
        "    coursework_weight = 1 - final_exam_weight\n",
        "    desired_exam_grade = (desired_grade - (current_grade * coursework_weight))/ final_exam_weight\n",
        "\n",
        "# display results\n",
        "\n",
        "    if desired_exam_grade > 100:\n",
        "        print(f\"You need a {desired_exam_grade:.2f}% to achieve {desired_grade}. Good Luck!\")\n",
        "    elif desired_exam_grade < 0:\n",
        "        print(f\"You need a {desired_exam_grade:.2f}% to achieve {desired_grade}. Don't Stress!\")\n",
        "    else:\n",
        "         print(f\"You need a {desired_exam_grade:.2f}% to achieve {desired_grade}. You've got this!\")\n",
        "\n",
        "\n",
        "# Run the program\n",
        "final_exam_score_det()"
      ]
    }
  ]
}